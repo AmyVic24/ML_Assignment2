{
 "cells": [
  {
   "cell_type": "markdown",
   "metadata": {},
   "source": [
    "### Load the data"
   ]
  },
  {
   "cell_type": "code",
   "execution_count": 2,
   "metadata": {},
   "outputs": [],
   "source": [
    "import pandas as pd \n",
    "train = pd.read_csv('data/train.csv', index_col=None)\n",
    "x_train = train.iloc[:500,1:]\n",
    "y_train = train['Class']\n",
    "y_train = y_train[0:500]\n",
    "\n",
    "x_test = train.iloc[500:,1:]\n",
    "y_test = train['Class']\n",
    "y_test = y_test[500:]"
   ]
  },
  {
   "cell_type": "markdown",
   "metadata": {},
   "source": [
    "### Train all the models"
   ]
  },
  {
   "cell_type": "code",
   "execution_count": 3,
   "metadata": {},
   "outputs": [],
   "source": [
    "from sklearn.ensemble import RandomForestClassifier\n",
    "rf_model = RandomForestClassifier(n_estimators = 100, max_features=0.5, max_depth= None)   \n",
    "rf_model = rf_model.fit(x_train, y_train)"
   ]
  },
  {
   "cell_type": "code",
   "execution_count": 4,
   "metadata": {},
   "outputs": [],
   "source": [
    "from sklearn.svm import SVC\n",
    "svm_model = SVC(kernel='rbf', C=1.0, gamma=1.0, probability = True)\n",
    "svm_model = svm_model.fit(x_train, y_train)"
   ]
  },
  {
   "cell_type": "code",
   "execution_count": 5,
   "metadata": {},
   "outputs": [],
   "source": [
    "from sklearn.naive_bayes import GaussianNB \n",
    "nb_model = GaussianNB()\n",
    "nb_model = nb_model.fit(x_train, y_train)"
   ]
  },
  {
   "cell_type": "code",
   "execution_count": 6,
   "metadata": {},
   "outputs": [],
   "source": [
    "from sklearn.decomposition import PCA\n",
    "pca_model = PCA(n_components = 2)\n",
    "pca_train = pca_model.fit_transform(x_train)\n",
    "explained_variance = pca_model.explained_variance_ratio_\n",
    "\n",
    "from sklearn.linear_model import LogisticRegression\n",
    "lg_model = LogisticRegression(random_state = 0)\n",
    "lg_model = lg_model.fit(pca_train, y_train)"
   ]
  },
  {
   "cell_type": "code",
   "execution_count": 7,
   "metadata": {},
   "outputs": [],
   "source": [
    "from sklearn.neural_network import MLPClassifier\n",
    "nn_model = MLPClassifier(activation = 'relu', batch_size = 100, hidden_layer_sizes = (100, 100, 100), solver = 'adam', alpha = 0.0001, random_state = 1)   \n",
    "nn_model = nn_model.fit(x_train, y_train)"
   ]
  },
  {
   "cell_type": "markdown",
   "metadata": {},
   "source": [
    "### ROC Curve"
   ]
  },
  {
   "cell_type": "code",
   "execution_count": 8,
   "metadata": {},
   "outputs": [
    {
     "name": "stderr",
     "output_type": "stream",
     "text": [
      "C:\\Users\\Amy2403\\Anaconda\\lib\\site-packages\\sklearn\\cross_validation.py:41: DeprecationWarning: This module was deprecated in version 0.18 in favor of the model_selection module into which all the refactored classes and functions are moved. Also note that the interface of the new CV iterators are different from that of this module. This module will be removed in 0.20.\n",
      "  \"This module will be removed in 0.20.\", DeprecationWarning)\n"
     ]
    },
    {
     "name": "stdout",
     "output_type": "stream",
     "text": [
      "Prediction accuracy: 0.844\n",
      "Area under ROC curve (AUC): 0.8527146666666666\n",
      "Prediction accuracy: 0.748\n",
      "Area under ROC curve (AUC): 0.230592\n",
      "Prediction accuracy: 0.646\n",
      "Area under ROC curve (AUC): 0.5719573333333333\n",
      "Prediction accuracy: 0.84\n",
      "Area under ROC curve (AUC): 0.8573653333333332\n"
     ]
    },
    {
     "data": {
      "text/plain": [
       "<matplotlib.figure.Figure at 0x1317a1d8f60>"
      ]
     },
     "metadata": {},
     "output_type": "display_data"
    }
   ],
   "source": [
    "import matplotlib.pyplot as plt\n",
    "import numpy as np\n",
    "from sklearn.metrics import roc_curve, auc\n",
    "from sklearn.cross_validation import StratifiedKFold as SKFold\n",
    "\n",
    "#random_state = np.random.RandomState(0)\n",
    "#n_samples, n_features = x_test.shape\n",
    "#x_test = np.c_[x_test, random_state.randn(n_samples, n_features)]\n",
    "\n",
    "rf_pred = rf_model.predict(x_test)\n",
    "svm_pred = svm_model.predict(x_test)\n",
    "nb_pred = nb_model.predict(x_test)\n",
    "#lg_pred = lg_model.predict(x_test)\n",
    "nn_pred = nn_model.predict(x_test)\n",
    "\n",
    "rf_prob = rf_model.predict_proba(x_test)\n",
    "svm_prob = svm_model.predict_proba(x_test)\n",
    "nb_prob = nb_model.predict_proba(x_test)\n",
    "#lg_prob = lg_model.predict_proba(x_test)\n",
    "nn_prob = nn_model.predict_proba(x_test)\n",
    "\n",
    "random_seed = 1234\n",
    "scv = SKFold(y=train['Class'], n_folds=5, random_state=random_seed)\n",
    "\n",
    "mean_acc = 0.0\n",
    "mean_auc = 0.0\n",
    "all_tpr = []\n",
    "all_acc = []\n",
    "all_auc = []\n",
    "\n",
    "acc = np.sum(y_test == rf_pred)*1./len(y_test)\n",
    "print('Prediction accuracy:', acc)\n",
    "fpr, tpr, thresholds = roc_curve(y_test, rf_prob[:, 1])\n",
    "roc_auc = auc(fpr, tpr)\n",
    "print('Area under ROC curve (AUC):', roc_auc)\n",
    "plt.plot(fpr, tpr, lw=1, label = 'RandomForest (area = %0.2f)' % ( roc_auc))\n",
    "all_acc.append(acc)\n",
    "all_acc.append(roc_auc)\n",
    "\n",
    "acc = np.sum(y_test == svm_pred)*1./len(y_test)\n",
    "print('Prediction accuracy:', acc)\n",
    "fpr, tpr, thresholds = roc_curve(y_test, svm_prob[:, 1])\n",
    "roc_auc = auc(fpr, tpr)\n",
    "print('Area under ROC curve (AUC):', roc_auc)\n",
    "plt.plot(fpr, tpr, lw=1, label = 'Support Vector Machine (area = %0.2f)' % ( roc_auc))\n",
    "all_acc.append(acc)\n",
    "all_acc.append(roc_auc)\n",
    "\n",
    "acc = np.sum(y_test == nb_pred)*1./len(y_test)\n",
    "print('Prediction accuracy:', acc)\n",
    "fpr, tpr, thresholds = roc_curve(y_test, nb_prob[:, 1])\n",
    "roc_auc = auc(fpr, tpr)\n",
    "print('Area under ROC curve (AUC):', roc_auc)\n",
    "plt.plot(fpr, tpr, lw=1, label = 'Naive Bayes (area = %0.2f)' % ( roc_auc))\n",
    "all_acc.append(acc)\n",
    "all_acc.append(roc_auc)\n",
    "\n",
    "\n",
    "acc = np.sum(y_test == nn_pred)*1./len(y_test)\n",
    "print('Prediction accuracy:', acc)\n",
    "fpr, tpr, thresholds = roc_curve(y_test, nn_prob[:, 1])\n",
    "roc_auc = auc(fpr, tpr)\n",
    "print('Area under ROC curve (AUC):', roc_auc)\n",
    "plt.plot(fpr, tpr, lw=1, label = 'Neural Network (area = %0.2f)' % ( roc_auc))\n",
    "all_acc.append(acc)\n",
    "all_acc.append(roc_auc)\n",
    "\n",
    "\n",
    "plt.plot([0, 1], [0, 1], '--', color=(0.6, 0.6, 0.6))#, label='Luck')\n",
    "plt.xlim([-0.05, 1.05])\n",
    "plt.ylim([-0.05, 1.05])\n",
    "plt.xlabel('False Positive Rate')\n",
    "plt.ylabel('True Positive Rate')\n",
    "plt.title('Receiver operating characteristic')\n",
    "plt.legend(loc=\"lower right\")\n",
    "plt.show()\n"
   ]
  },
  {
   "cell_type": "markdown",
   "metadata": {},
   "source": [
    "### Precision"
   ]
  },
  {
   "cell_type": "code",
   "execution_count": 9,
   "metadata": {},
   "outputs": [
    {
     "data": {
      "text/plain": [
       "Text(0.5,1,'F0.5 Scores for Classifiers - Precision')"
      ]
     },
     "execution_count": 9,
     "metadata": {},
     "output_type": "execute_result"
    },
    {
     "data": {
      "image/png": "[encoded data removed]",
      "text/plain": [
       "<matplotlib.figure.Figure at 0x13179e97710>"
      ]
     },
     "metadata": {},
     "output_type": "display_data"
    }
   ],
   "source": [
    "from sklearn.metrics import fbeta_score\n",
    "\n",
    "rf_f = fbeta_score(y_test, rf_pred, average = 'binary', pos_label = 1, beta = 0.5)\n",
    "svm_f = fbeta_score(y_test, svm_pred, average = 'binary', pos_label = 1, beta = 0.5)\n",
    "nb_f = fbeta_score(y_test, nb_pred, average = 'binary', pos_label = 1, beta = 0.5)\n",
    "nn_f = fbeta_score(y_test, nn_pred, average = 'binary', pos_label = 1, beta = 0.5) \n",
    "\n",
    "plt.bar(x = ('Random Forest', 'Support Vector Machine', 'Naive Bayes',\n",
    "             'Neural Network'), height = (rf_f, svm_f, nb_f, nn_f), color= ('b','orange','g','r'))\n",
    "plt.xticks(rotation=45)\n",
    "plt.title('F0.5 Scores for Classifiers - Precision')\n"
   ]
  },
  {
   "cell_type": "markdown",
   "metadata": {},
   "source": [
    "### Recall"
   ]
  },
  {
   "cell_type": "code",
   "execution_count": 10,
   "metadata": {},
   "outputs": [
    {
     "data": {
      "text/plain": [
       "Text(0.5,1,'F2 Scores for Classifiers - Recall')"
      ]
     },
     "execution_count": 10,
     "metadata": {},
     "output_type": "execute_result"
    },
    {
     "data": {
      "image/png": "[encoded data removed]",
      "text/plain": [
       "<matplotlib.figure.Figure at 0x1317a1d8550>"
      ]
     },
     "metadata": {},
     "output_type": "display_data"
    }
   ],
   "source": [
    "from sklearn.metrics import fbeta_score\n",
    "\n",
    "rf_f = fbeta_score(y_test, rf_pred, average = 'binary', pos_label = 1, beta = 2)\n",
    "svm_f = fbeta_score(y_test, svm_pred, average = 'binary', pos_label = 1, beta = 2)\n",
    "nb_f = fbeta_score(y_test, nb_pred, average = 'binary', pos_label = 1, beta = 2)\n",
    "nn_f = fbeta_score(y_test, nn_pred, average = 'binary', pos_label = 1, beta = 2) \n",
    "\n",
    "plt.bar(x = ('Random Forest', 'Support Vector Machine', 'Naive Bayes',\n",
    "             'Neural Network'), height = (rf_f, svm_f, nb_f, nn_f), color= ('b','orange','g','r'))\n",
    "plt.xticks(rotation=45)\n",
    "plt.title('F2 Scores for Classifiers - Recall')"
   ]
  },
  {
   "cell_type": "code",
   "execution_count": null,
   "metadata": {},
   "outputs": [],
   "source": []
  }
 ],
 "metadata": {
  "kernelspec": {
   "display_name": "Python 3",
   "language": "python",
   "name": "python3"
  },
  "language_info": {
   "codemirror_mode": {
    "name": "ipython",
    "version": 3
   },
   "file_extension": ".py",
   "mimetype": "text/x-python",
   "name": "python",
   "nbconvert_exporter": "python",
   "pygments_lexer": "ipython3",
   "version": "3.6.4"
  }
 },
 "nbformat": 4,
 "nbformat_minor": 2
}
